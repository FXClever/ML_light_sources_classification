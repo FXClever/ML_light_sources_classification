{
 "cells": [
  {
   "cell_type": "code",
   "execution_count": 1,
   "metadata": {
    "collapsed": true
   },
   "outputs": [],
   "source": [
    "import pandas as pd\n",
    "import numpy as np\n",
    "from sklearn.ensemble import RandomForestClassifier\n",
    "from sklearn.linear_model import LogisticRegression\n",
    "from sklearn.model_selection import GridSearchCV\n",
    "from sklearn.model_selection import StratifiedKFold\n",
    "from sklearn.preprocessing import MinMaxScaler, StandardScaler\n",
    "from sklearn.pipeline import Pipeline\n",
    "from sklearn.decomposition import PCA\n",
    "import matplotlib.pyplot as plt\n",
    "from sklearn.manifold import TSNE\n",
    "from sklearn.cluster import DBSCAN\n",
    "from sklearn.metrics import  accuracy_score\n",
    "\n",
    "%matplotlib inline "
   ]
  },
  {
   "cell_type": "markdown",
   "metadata": {},
   "source": [
    "## Введение (Introduction)\n",
    "Данный блокнот является дополнительным материалом к демонстрации примеров классификации спектров излучения источников искусственного и естественного света представленной публикации на портале Habrahabr –   \n",
    "  \n",
    "Внимание! Изложенные ниже методы и данные на основании, которых проводится классификация, собраны на основании материалов, размещенных пользователями в общем доступе на портале https://spectralworkbench.org/  и не предполагают научной достоверности.\n",
    "Учитывая возможные ошибки вызванные техническими и «человеческими» факторами рекомендуется применение набора данных исключительно в демонстрационных целях. \n",
    "\n",
    "\n",
    "Materials may contain errors, not recommended for serious research.\n",
    "Spectrum source https://spectralworkbench.org/  \n",
    "P.S. English text from google translate :)"
   ]
  },
  {
   "cell_type": "markdown",
   "metadata": {},
   "source": [
    "# Описание данных (Data description)\n",
    "Набор данных состоит из тестовой и обучающей выборки, описывающей спектры источников света.  \n",
    "Спектральные характеристики разбиты на 301 признаков где значение признака соответствует длине волны в спектре.    \n",
    "Значение признака – условная мощность излучения.   \n",
    "Поле label содержит метку источника света:  \n",
    "0-\tСветодиодная лампа (белый свет от WW/CW/NW/RGB светодиодов или их комбинации);  \n",
    "1-\tЛюминесцентная лампа (компактная или трубчатая);  \n",
    "2-\tДневной свет (солнце, небо, или их комбинация);  \n",
    "train.csv – обучающая выборка;  \n",
    "train.csv – обучающая выборка;  \n",
    "train_names csv , test_names.csv– имена источников спектра для train и test соответственно.\n",
    "Просмотреть исходный спектр можно по адресу :\n",
    "https://spectralworkbench.org/spectrums/XXXX  \n",
    "где: XXXX- имя спектра в файле.\n",
    "Например: https://spectralworkbench.org/spectrums/9740\n",
    "\n",
    "\n",
    "The data set consists of a test and training sample that describes the spectrum of light sources.\n",
    "Spectral characteristics are divided into 301 features where the value of the characteristic corresponds to the wavelength in the spectrum.\n",
    "The value of the characteristic is the emission power.  \n",
    "The label field contains the light source label:  \n",
    "0- LED lamp (white light from WW / CW / NW / RGB LEDs or their combination);  \n",
    "1- Fluorescent lamp (compact or tube);  \n",
    "2- Daylight (sun, sky, or or their combination);  \n",
    "train.csv - training sample, train.csv - training sample;  \n",
    "train names csv, test_names.csv - filenames of the spectrum sources for train and test, respectively.\n",
    "View the original spectrum can be found at:\n",
    "https://spectralworkbench.org/spectrums/XXXX  \n",
    "where: XXXX is the name of the spectrum in the file.\n",
    "For example: https://spectralworkbench.org/spectrums/9740\n"
   ]
  },
  {
   "cell_type": "code",
   "execution_count": 2,
   "metadata": {},
   "outputs": [
    {
     "name": "stdout",
     "output_type": "stream",
     "text": [
      "train shape (90, 302), test shape (33, 302)]\n"
     ]
    },
    {
     "data": {
      "image/png": "[encoded data removed]",
      "text/plain": [
       "<matplotlib.figure.Figure at 0x1f85b173a90>"
      ]
     },
     "metadata": {},
     "output_type": "display_data"
    }
   ],
   "source": [
    "#reading data\n",
    "train_df=pd.read_csv('train.csv',index_col=0)\n",
    "test_df=pd.read_csv('test.csv',index_col=0)\n",
    "print('train shape {0}, test shape {1}]'. format(train_df.shape, test_df.shape))\n",
    "\n",
    "\n",
    "#draw classdistributions\n",
    "fig, axes = plt.subplots(nrows=1, ncols=2, figsize=(12,5))\n",
    "train_df.label.plot.hist(ax=axes[0],title='train data class distribution', bins=5,xticks=np.unique(train_df.label.values))\n",
    "test_df.label.plot.hist(ax=axes[1],title='test data class distribution',bins=5,xticks=np.unique(test_df.label.values))\n",
    "\n",
    "#divide the data and labels\n",
    "X_train=np.array(train_df.iloc[:,:-1])\n",
    "X_test=np.array(test_df.iloc[:,:-1])\n",
    "y_train=np.array(train_df['label'])\n",
    "y_test=np.array(test_df['label'])"
   ]
  },
  {
   "cell_type": "markdown",
   "metadata": {},
   "source": [
    "## Random Forest"
   ]
  },
  {
   "cell_type": "markdown",
   "metadata": {},
   "source": [
    "Для начала подберем параметры Random Forest вручную   \n",
    "  \n",
    "Let's select parameters manually"
   ]
  },
  {
   "cell_type": "code",
   "execution_count": 3,
   "metadata": {},
   "outputs": [
    {
     "name": "stdout",
     "output_type": "stream",
     "text": [
      "results (predict, real): \n",
      " [(2, 0), (0, 0), (0, 0), (0, 0), (0, 0), (0, 0), (1, 0), (0, 0), (2, 0), (2, 0), (2, 0), (1, 1), (1, 1), (1, 1), (1, 1), (0, 1), (1, 1), (1, 1), (1, 1), (1, 1), (1, 1), (1, 1), (2, 2), (2, 2), (2, 2), (2, 2), (2, 2), (2, 2), (2, 2), (2, 2), (2, 2), (2, 2), (2, 2)]\n",
      "accuracy score= 0.8181818181818182\n"
     ]
    }
   ],
   "source": [
    "rfc = RandomForestClassifier(n_estimators=30, max_depth=5, random_state=42, n_jobs=-1)\n",
    "rfc.fit(X_train, y_train)\n",
    "pred_rfc=rfc.predict(X_test)\n",
    "print(\"results (predict, real): \\n\",list(zip(pred_rfc,y_test)))\n",
    "print(\"accuracy score= {0}\".format(rfc.score(X_test,y_test)))\n"
   ]
  },
  {
   "cell_type": "markdown",
   "metadata": {},
   "source": [
    "Подберем наилучшие параметры с помощью решетчатого поиска и кросс-валидации GridSearchCV. Параметры взяты из расчета наглядности демонстрации и быстроты расчета и могут не обеспечивать самый лучший результат.\n",
    "\n",
    "We will select the best parameters using GridSearchCV. The parameters are chosen based on computing speed and clarity and may not provide the best result."
   ]
  },
  {
   "cell_type": "code",
   "execution_count": 4,
   "metadata": {},
   "outputs": [
    {
     "name": "stdout",
     "output_type": "stream",
     "text": [
      "{'max_depth': 6, 'n_estimators': 30} 0.766666666667\n",
      "best accuracy on cv: 0.77\n",
      "accuracy on test data: 0.87879\n",
      "best params: {'max_depth': 6, 'n_estimators': 30}\n",
      "results (predict, real): \n",
      " [(0, 0), (0, 0), (0, 0), (0, 0), (0, 0), (0, 0), (0, 0), (0, 0), (2, 0), (2, 0), (2, 0), (1, 1), (1, 1), (1, 1), (1, 1), (0, 1), (1, 1), (1, 1), (1, 1), (1, 1), (1, 1), (1, 1), (2, 2), (2, 2), (2, 2), (2, 2), (2, 2), (2, 2), (2, 2), (2, 2), (2, 2), (2, 2), (2, 2)]\n",
      "Wall time: 1min 6s\n"
     ]
    }
   ],
   "source": [
    "%%time\n",
    "param_grid = {'n_estimators':[10, 20, 30, 40, 50],  'max_depth':[4,5,6,7,8]}\n",
    "\n",
    "grid_search_rfc = GridSearchCV(RandomForestClassifier(random_state=42,n_jobs=-1), param_grid, cv=7)\n",
    "\n",
    "grid_search_rfc.fit(X_train, y_train)\n",
    "\n",
    "print(grid_search_rfc.best_params_,grid_search_rfc.best_score_)\n",
    "\n",
    "print(\"best accuracy on cv: {:.2f}\".format(grid_search_rfc.best_score_))\n",
    "print(\"accuracy on test data: {:.5f}\".format(grid_search_rfc.score(X_test, y_test)))\n",
    "print(\"best params: {}\".format(grid_search_rfc.best_params_))\n",
    "print(\"results (predict, real): \\n\",list(zip(grid_search_rfc.best_estimator_.predict(X_test),y_test)))\n"
   ]
  },
  {
   "cell_type": "code",
   "execution_count": 5,
   "metadata": {},
   "outputs": [
    {
     "name": "stdout",
     "output_type": "stream",
     "text": [
      "results (predict, real): \n",
      " [(0, 0), (0, 0), (0, 0), (0, 0), (0, 0), (0, 0), (0, 0), (0, 0), (2, 0), (2, 0), (2, 0), (1, 1), (1, 1), (1, 1), (1, 1), (0, 1), (1, 1), (1, 1), (1, 1), (1, 1), (1, 1), (1, 1), (2, 2), (2, 2), (2, 2), (2, 2), (2, 2), (2, 2), (2, 2), (2, 2), (2, 2), (2, 2), (2, 2)]\n",
      "accuracy score= 0.8787878787878788\n"
     ]
    }
   ],
   "source": [
    "rfc = RandomForestClassifier(n_estimators=30, max_depth=6, random_state=42, n_jobs=-1)\n",
    "rfc.fit(X_train, y_train)\n",
    "pred=rfc.predict(X_test)\n",
    "print(\"results (predict, real): \\n\",list(zip(pred,y_test)))\n",
    "print(\"accuracy score= {0}\".format(rfc.score(X_test,y_test)))\n"
   ]
  },
  {
   "cell_type": "markdown",
   "metadata": {},
   "source": [
    "В данном случае мы оптимизировали только 2 параметра и оказалось, что изменение max_depth на 1 дает прирост точности предсказаний. При этом заметьте, что в данном случае увеличение числа решающих деревьев не увеличивает существенно качество.\n",
    "Необходимо отметить, что много зависит от параметров кросс-валидации GridSearchCV и словаря param_grid, при других параметрах, есть возможность получить результат хуже чем был подобран без использования GridSearchCV  \n",
    "  \n",
    "\n",
    "In the demo example, changing 1 of the two parameters gives an increase accuracy. While an increase in n_Estimators is not required.\n",
    "The result also depends on the GridSearchCV and param_grid settings"
   ]
  },
  {
   "cell_type": "markdown",
   "metadata": {},
   "source": [
    "## LogisticRegression\n",
    "\n",
    "В качестве альтернативы рассмотрим другой алгоритм, для начала выберем параметры вручную\n",
    "Для малых наборов данных советуют взять выбрать алгоритм ‘liblinear’ (по умолчанию) значит его и оставим.\n",
    "\n",
    "As an alternative, consider another algorithm. select the parameters manually. Choosing the solver by default is good for small data\n"
   ]
  },
  {
   "cell_type": "code",
   "execution_count": 6,
   "metadata": {},
   "outputs": [
    {
     "name": "stdout",
     "output_type": "stream",
     "text": [
      "results (predict, real): \n",
      " [(0, 0), (0, 0), (0, 0), (2, 0), (0, 0), (0, 0), (0, 0), (2, 0), (0, 0), (0, 0), (2, 0), (1, 1), (1, 1), (1, 1), (1, 1), (2, 1), (2, 1), (1, 1), (1, 1), (1, 1), (1, 1), (2, 1), (2, 2), (2, 2), (2, 2), (0, 2), (2, 2), (2, 2), (2, 2), (2, 2), (2, 2), (2, 2), (2, 2)]\n",
      "accuracy score= 0.7878787878787878\n"
     ]
    }
   ],
   "source": [
    "logreg = LogisticRegression(penalty='l2',random_state=42,  C=1, n_jobs=-1)\n",
    "logreg.fit(X_train, y_train)\n",
    "pred_logreg = logreg.predict(X_test)\n",
    "print(\"results (predict, real): \\n\",list(zip(pred_logreg,y_test)))\n",
    "print(\"accuracy score= {0}\".format(logreg.score(X_test,y_test)))"
   ]
  },
  {
   "cell_type": "markdown",
   "metadata": {},
   "source": [
    "\n",
    "Также, как и в прошлом случае попробуем GridSearchCV\n",
    "\n",
    "Also try a GridSearchCV\n"
   ]
  },
  {
   "cell_type": "code",
   "execution_count": 7,
   "metadata": {},
   "outputs": [
    {
     "name": "stdout",
     "output_type": "stream",
     "text": [
      "best accuracy on cv: 0.79\n",
      "accuracy on test data: 0.81818\n",
      "best params: {'C': 0.02, 'penalty': 'l1'}\n",
      "results (predict, real): \n",
      " [(0, 0), (0, 0), (0, 0), (2, 0), (0, 0), (0, 0), (0, 0), (0, 0), (0, 0), (0, 0), (2, 0), (1, 1), (1, 1), (1, 1), (1, 1), (2, 1), (2, 1), (1, 1), (1, 1), (1, 1), (1, 1), (2, 1), (2, 2), (2, 2), (2, 2), (0, 2), (2, 2), (2, 2), (2, 2), (2, 2), (2, 2), (2, 2), (2, 2)]\n",
      "Wall time: 718 ms\n"
     ]
    }
   ],
   "source": [
    "%%time\n",
    "param_grid = {'C':[0.00020, 0.0020, 0.020, 0.20, 1.2],  'penalty':['l1','l2']}\n",
    "\n",
    "grid_search_logr = GridSearchCV(LogisticRegression(random_state=42,n_jobs=-1), param_grid, cv=3)\n",
    "\n",
    "grid_search_logr.fit(X_train, y_train)\n",
    "\n",
    "print(\"best accuracy on cv: {:.2f}\".format(grid_search_logr.best_score_))\n",
    "print(\"accuracy on test data: {:.5f}\".format(grid_search_logr.score(X_test, y_test)))\n",
    "print(\"best params: {}\".format(grid_search_logr.best_params_))\n",
    "print(\"results (predict, real): \\n\",list(zip(grid_search_logr.best_estimator_.predict(X_test),y_test)))"
   ]
  },
  {
   "cell_type": "markdown",
   "metadata": {},
   "source": [
    "Оптимизированный вариант LogisticRegression, показывает точность, аналогичную RandomForestClassifier без подбора параметров. Возможно качество предсказания можно еще повысить, но это я предлагаю Вам попробовать самостоятельно  \n",
    "  \n",
    "The optimized version of LogisticRegression, shows the accuracy similar to RandomForestClassifier without parameter selection. Perhaps the quality of the prediction can be further improved, but I suggest you try it yourself\n"
   ]
  },
  {
   "cell_type": "markdown",
   "metadata": {},
   "source": [
    "## Кластеризация (Clustering)\n",
    "  \n",
    "Напоследок, давайте посмотрим, насколько наглядно можно разделить наши данные без знания об их классе (обучение без учителя)  \n",
    "  \n",
    "Finally, let's see how clearly we can divide our data without knowing about their class.\n"
   ]
  },
  {
   "cell_type": "markdown",
   "metadata": {},
   "source": [
    "Для начала попробуем визуализировать данные, воспользуемся методом T-NSE и PCA. Визуализируем обучающую выборку (тестовая – аналогична)\n",
    "\n",
    "First, let's try to visualize the data, use the T-NSE and PCA method. Visualize the training sample (the test sample is the same)\n"
   ]
  },
  {
   "cell_type": "code",
   "execution_count": 8,
   "metadata": {
    "collapsed": true
   },
   "outputs": [],
   "source": [
    "colors = [\"#476A2A\", \"#535D8E\", \"#BD3430\"]"
   ]
  },
  {
   "cell_type": "code",
   "execution_count": 9,
   "metadata": {},
   "outputs": [
    {
     "data": {
      "text/plain": [
       "<matplotlib.text.Text at 0x1f85c325940>"
      ]
     },
     "execution_count": 9,
     "metadata": {},
     "output_type": "execute_result"
    },
    {
     "data": {
      "image/png": "[encoded data removed]",
      "text/plain": [
       "<matplotlib.figure.Figure at 0x1f85c2a3668>"
      ]
     },
     "metadata": {},
     "output_type": "display_data"
    }
   ],
   "source": [
    "#T-SNE\n",
    "tsne = TSNE(random_state=42)\n",
    "d_tsne = tsne.fit_transform(X_train)\n",
    "plt.figure(figsize=(10, 10))\n",
    "plt.xlim(d_tsne[:, 0].min(), d_tsne[:, 0].max() + 10)\n",
    "plt.ylim(d_tsne[:, 1].min(), d_tsne[:, 1].max() + 10)\n",
    "for i in range(len(X_train)):\n",
    "    # строим график, где цифры представлены символами вместо точек\n",
    "    plt.text(d_tsne[i, 0], d_tsne[i, 1], str(y_train[i]),\n",
    "    color = colors[y_train[i]],\n",
    "    fontdict={'weight': 'bold', 'size': 10})\n",
    "plt.xlabel(\"t-SNE feature 0\")\n",
    "plt.ylabel(\"t-SNE feature 1\")"
   ]
  },
  {
   "cell_type": "code",
   "execution_count": 10,
   "metadata": {},
   "outputs": [
    {
     "data": {
      "text/plain": [
       "<matplotlib.text.Text at 0x1f85c7d9e10>"
      ]
     },
     "execution_count": 10,
     "metadata": {},
     "output_type": "execute_result"
    },
    {
     "data": {
      "image/png": "[encoded data removed]",
      "text/plain": [
       "<matplotlib.figure.Figure at 0x1f85c2cff98>"
      ]
     },
     "metadata": {},
     "output_type": "display_data"
    }
   ],
   "source": [
    "#PCA\n",
    "pca = PCA(n_components=2, random_state=42)\n",
    "pca.fit_transform(X_train)\n",
    "d_pca =  pca.transform(X_train)\n",
    "plt.figure(figsize=(10, 10))\n",
    "plt.xlim(d_pca[:, 0].min(), d_pca[:, 0].max() + 130)\n",
    "plt.ylim(d_pca[:, 1].min(), d_pca[:, 1].max() + 30)\n",
    "for i in range(len(X_train)):\n",
    "    # строим график, где цифры представлены символами вместо точек\n",
    "    plt.text(d_pca[i, 0], d_pca[i, 1], str(y_train[i]),\n",
    "    color = colors[y_train[i]],\n",
    "    fontdict={'weight': 'bold', 'size': 10})\n",
    "plt.xlabel(\"1-st main comp.\")\n",
    "plt.ylabel(\"2-nd main comp.\")"
   ]
  },
  {
   "cell_type": "markdown",
   "metadata": {},
   "source": [
    "По двумерному представлению, разделить классы сложно  \n",
    "  \n",
    "On a two-dimensional view, it is difficult to divide classes"
   ]
  },
  {
   "cell_type": "markdown",
   "metadata": {},
   "source": [
    "Давайте попробуем представить, что мы не знаем сколько всего классов в наших данных, в таком случае нам подойдет алгоритм DBSCAN, для наглядности будем обучать его на тестовой выборке.  \n",
    "  \n",
    "Let's try to imagine that we do not know how many classes in our data, in this case the DBSCAN algorithm will work for us. We will teach it on a test data.\n"
   ]
  },
  {
   "cell_type": "code",
   "execution_count": 11,
   "metadata": {},
   "outputs": [
    {
     "name": "stdout",
     "output_type": "stream",
     "text": [
      "Affiliation to clusters:\n",
      "[-1 -1  0 -1 -1  0  0 -1  1  1 -1  2  2 -1 -1 -1 -1 -1  2 -1  2 -1 -1  1 -1\n",
      " -1  1  1  1 -1  1 -1  1]\n",
      "\n",
      " results (Clustering, real): \n",
      " [(-1, 0), (-1, 0), (0, 0), (-1, 0), (-1, 0), (0, 0), (0, 0), (-1, 0), (1, 0), (1, 0), (-1, 0), (2, 1), (2, 1), (-1, 1), (-1, 1), (-1, 1), (-1, 1), (-1, 1), (2, 1), (-1, 1), (2, 1), (-1, 1), (-1, 2), (1, 2), (-1, 2), (-1, 2), (1, 2), (1, 2), (1, 2), (-1, 2), (1, 2), (-1, 2), (1, 2)]\n",
      "\n",
      " accuracy_score: \n",
      " 0.0909090909091\n"
     ]
    }
   ],
   "source": [
    "#scale data\n",
    "scaler = MinMaxScaler()\n",
    "scaler.fit(X_test)\n",
    "X_scaled = scaler.transform(X_test)\n",
    "\n",
    "#clustering with DBSCAN\n",
    "dbscan = DBSCAN(min_samples=2, eps=2.22, n_jobs=-1)\n",
    "clusters = dbscan.fit_predict(X_scaled)\n",
    "print(\"Affiliation to clusters:\\n{}\".format(clusters))\n",
    "print(\"\\n results (Clustering, real): \\n\",list(zip(clusters,y_test)))\n",
    "print(\"\\n accuracy_score: \\n\",accuracy_score(clusters,y_test))\n"
   ]
  },
  {
   "cell_type": "markdown",
   "metadata": {},
   "source": [
    "Похоже, что скорее всего метки класса 1 и 2 в результатах кластеризации надо поменять местами.  \n",
    "  \n",
    "It seems that most likely labels of class 1 and 2 in the clustering results should be interchanged.\n"
   ]
  },
  {
   "cell_type": "code",
   "execution_count": 12,
   "metadata": {},
   "outputs": [
    {
     "name": "stdout",
     "output_type": "stream",
     "text": [
      "\n",
      " results (Clustering, real): \n",
      " [(-1, 0), (-1, 0), (0, 0), (-1, 0), (-1, 0), (0, 0), (0, 0), (-1, 0), (2, 0), (2, 0), (-1, 0), (1, 1), (1, 1), (-1, 1), (-1, 1), (-1, 1), (-1, 1), (-1, 1), (1, 1), (-1, 1), (1, 1), (-1, 1), (-1, 2), (2, 2), (-1, 2), (-1, 2), (2, 2), (2, 2), (2, 2), (-1, 2), (2, 2), (-1, 2), (2, 2)]\n",
      "\n",
      " accuracy_score: \n",
      " 0.393939393939\n"
     ]
    }
   ],
   "source": [
    "def swap_class(lst, number_one,number_two ):\n",
    "    \"\"\"\n",
    "    The function is exchanging num1 and num2 in list and return new array\n",
    "    \"\"\"\n",
    "    \n",
    "    lst_new=[]\n",
    "    for val in lst:\n",
    "            if val == number_one:\n",
    "                val = number_two\n",
    "            elif val == number_two:\n",
    "                val = number_one\n",
    "            lst_new.append(val )\n",
    "    return np.array(lst_new)\n",
    "\n",
    "y_changed=swap_class(clusters, 1,2)\n",
    "print(\"\\n results (Clustering, real): \\n\",list(zip(y_changed,y_test)))\n",
    "print(\"\\n accuracy_score: \\n\",accuracy_score(y_changed,y_test))\n"
   ]
  },
  {
   "cell_type": "markdown",
   "metadata": {},
   "source": [
    "Мы получили около 40% точно предсказанных классов, что хоть и плохо, но немного лучше, чем случайное назначение класса.   \n",
    "  \n",
    "We got about 40% of the classes predicted accurately that even though bad, but a little better than random assignment of class.\n"
   ]
  }
 ],
 "metadata": {
  "kernelspec": {
   "display_name": "Python 3",
   "language": "python",
   "name": "python3"
  },
  "language_info": {
   "codemirror_mode": {
    "name": "ipython",
    "version": 3
   },
   "file_extension": ".py",
   "mimetype": "text/x-python",
   "name": "python",
   "nbconvert_exporter": "python",
   "pygments_lexer": "ipython3",
   "version": "3.6.1"
  }
 },
 "nbformat": 4,
 "nbformat_minor": 2
}
